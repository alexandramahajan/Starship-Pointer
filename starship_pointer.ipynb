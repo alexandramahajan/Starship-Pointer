#The main model training and evaluation notebook

import numpy as np 
import pandas as pd 
from sklearn.model_selection import train_test_split
from sklearn.ensemble import GradientBoostingClassifier
from sklearn.metrics import accuracy_score

df = pd.read_csv("cleaned_data_5250.csv")

#further data cleaning

#fill in missing values with mean value 
df["distance"] = df['distance'].fillna(df['distance'].mean())
df["stellar_magnitude"] = df["stellar_magnitude"].fillna(df["stellar_magnitude"].mean())
df["mass_multiplier"] = df['mass_multiplier'].fillna(df['mass_multiplier'].mean())
df["radius_multiplier"] = df['radius_multiplier'].fillna(df['radius_multiplier'].mean())
df["orbital_radius"] = df['orbital_radius'].fillna(df['orbital_radius'].mean())

#drop objects
df = df.drop(columns=['mass_wrt', 'radius_wrt'])

#verification dataset
verify_df = df.copy()
verify_df = verify_df.drop(columns=["planet_type"])
verify_df.info()

#splitting data
x = df.drop(['name','planet_type','detection_method'],axis=1)
dms = df[['name','detection_method']]
X_ = pd.get_dummies(dms)
X = pd.concat([x,X_],axis=1)
y = df['planet_type']

#model creation
X_train, X_valid, y_train, y_valid = train_test_split(X, y, train_size=0.8, random_state=42)

#using gradient-boosted classifier
gbm = GradientBoostingClassifier().fit(X_train,y_train)
y_pred = gbm.predict(X_valid)
acc = accuracy_score(y_valid,y_pred)
print("Predicted planet type with", (acc * 100), "percent accuracy")

#Current output: Predicted planet type with 95.61904761904762 percent accuracy
